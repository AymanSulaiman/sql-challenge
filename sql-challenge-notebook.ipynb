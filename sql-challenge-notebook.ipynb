{
 "cells": [
  {
   "cell_type": "markdown",
   "metadata": {
    "ExecuteTime": {
     "end_time": "2020-03-04T23:26:16.590787Z",
     "start_time": "2020-03-04T23:26:09.988258Z"
    }
   },
   "source": [
    "https://app.quickdatabasediagrams.com/#/d/BSeBcy\n",
    "\n",
    "put the stuff below in the thing above\n",
    "\n",
    "departments\n",
    "-\n",
    "dept_no VARCHAR(30)\n",
    "dept_name VARCHAR(30)\n",
    "\n",
    "dept_emp\n",
    "-\n",
    "emp_num INT FK >- employees.emp_no\n",
    "dept_no VARCHAR(30) FK >- departments.dept_no\n",
    "from_date VARCHAR(30)\n",
    "to_date VARCHAR(30)\n",
    "\n",
    "dept_manager\n",
    "-\n",
    "dept_no VARCHAR(30) FK >- departments.dept_no\n",
    "emp_no INT FK >- employees.emp_no\n",
    "from_date VARCHAR(30)\n",
    "to_date VARCHAR(30)\n",
    "\n",
    "employees\n",
    "-\n",
    "emp_no INT\n",
    "birth_date VARCHAR(30)\n",
    "first_name VARCHAR(30)\n",
    "gender VARCHAR(30)\n",
    "hire_date VARCHAR(30)\n",
    "\n",
    "salaries\n",
    "-\n",
    "emp_no INT FK >- employees.emp_no\n",
    "salary INT\n",
    "from_date VARCHAR(30)\n",
    "to_date VARCHAR(30)\n",
    "\n",
    "titles\n",
    "-\n",
    "emp_num INT FK >- employees.emp_no\n",
    "title VARCHAR(30)\n",
    "from_date VARCHAR(30)\n",
    "to_date VARCHAR(30)"
   ]
  },
  {
   "cell_type": "code",
   "execution_count": 2,
   "metadata": {
    "ExecuteTime": {
     "end_time": "2020-03-04T23:55:35.828811Z",
     "start_time": "2020-03-04T23:55:35.822814Z"
    }
   },
   "outputs": [],
   "source": [
    "import sqlalchemy\n",
    "\n"
   ]
  }
 ],
 "metadata": {
  "kernelspec": {
   "display_name": "Python 3",
   "language": "python",
   "name": "python3"
  },
  "language_info": {
   "codemirror_mode": {
    "name": "ipython",
    "version": 3
   },
   "file_extension": ".py",
   "mimetype": "text/x-python",
   "name": "python",
   "nbconvert_exporter": "python",
   "pygments_lexer": "ipython3",
   "version": "3.7.6"
  },
  "toc": {
   "base_numbering": 1,
   "nav_menu": {},
   "number_sections": true,
   "sideBar": true,
   "skip_h1_title": false,
   "title_cell": "Table of Contents",
   "title_sidebar": "Contents",
   "toc_cell": false,
   "toc_position": {},
   "toc_section_display": true,
   "toc_window_display": false
  },
  "varInspector": {
   "cols": {
    "lenName": 16,
    "lenType": 16,
    "lenVar": 40
   },
   "kernels_config": {
    "python": {
     "delete_cmd_postfix": "",
     "delete_cmd_prefix": "del ",
     "library": "var_list.py",
     "varRefreshCmd": "print(var_dic_list())"
    },
    "r": {
     "delete_cmd_postfix": ") ",
     "delete_cmd_prefix": "rm(",
     "library": "var_list.r",
     "varRefreshCmd": "cat(var_dic_list()) "
    }
   },
   "types_to_exclude": [
    "module",
    "function",
    "builtin_function_or_method",
    "instance",
    "_Feature"
   ],
   "window_display": false
  }
 },
 "nbformat": 4,
 "nbformat_minor": 4
}
